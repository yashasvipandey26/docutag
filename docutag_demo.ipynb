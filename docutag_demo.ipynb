{
 "cells": [
  {
   "cell_type": "code",
   "execution_count": null,
   "id": "7255f501",
   "metadata": {},
   "outputs": [],
   "source": [
    "from tkinter import Tk\n",
    "from tkinter.filedialog import askopenfilename\n",
    "\n",
    "Tk().withdraw()  # Hide Tkinter root window\n",
    "file_path = askopenfilename(title=\"Select a .pdf, .docx, or .txt file\")\n",
    "print(\"File selected:\", file_path)"
   ]
  },
  {
   "cell_type": "code",
   "execution_count": null,
   "id": "2e0da2a6",
   "metadata": {},
   "outputs": [],
   "source": [
    "%run utils.py"
   ]
  },
  {
   "cell_type": "code",
   "execution_count": null,
   "id": "253e9e48",
   "metadata": {},
   "outputs": [],
   "source": [
    "file_ext = file_path.split('.')[-1].lower()\n",
    "\n",
    "with open(file_path, 'rb') as f:\n",
    "    metadata = extract_metadata(f, file_ext)"
   ]
  },
  {
   "cell_type": "code",
   "execution_count": null,
   "id": "91ab3309",
   "metadata": {},
   "outputs": [],
   "source": [
    "print(\"Extracted Metadata\\n\" + \"-\"*30)\n",
    "\n",
    "for key, value in metadata.items():\n",
    "    print(f\"\\n🔹 {key.title()}:\\n{value}\")\n"
   ]
  }
 ],
 "metadata": {
  "kernelspec": {
   "display_name": "Python 3",
   "language": "python",
   "name": "python3"
  },
  "language_info": {
   "codemirror_mode": {
    "name": "ipython",
    "version": 3
   },
   "file_extension": ".py",
   "mimetype": "text/x-python",
   "name": "python",
   "nbconvert_exporter": "python",
   "pygments_lexer": "ipython3",
   "version": "3.13.2"
  }
 },
 "nbformat": 4,
 "nbformat_minor": 5
}
