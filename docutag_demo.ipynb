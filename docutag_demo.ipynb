{
 "cells": [
  {
   "cell_type": "code",
   "execution_count": 2,
   "id": "7255f501",
   "metadata": {},
   "outputs": [
    {
     "name": "stdout",
     "output_type": "stream",
     "text": [
      "File selected: C:/Internship/docutag/Sample.pdf\n"
     ]
    }
   ],
   "source": [
    "from tkinter import Tk\n",
    "from tkinter.filedialog import askopenfilename\n",
    "\n",
    "Tk().withdraw()  # Hide Tkinter root window\n",
    "file_path = askopenfilename(title=\"Select a .pdf, .docx, or .txt file\")\n",
    "print(\"File selected:\", file_path)"
   ]
  },
  {
   "cell_type": "code",
   "execution_count": 3,
   "id": "2e0da2a6",
   "metadata": {},
   "outputs": [
    {
     "name": "stderr",
     "output_type": "stream",
     "text": [
      "c:\\Users\\R\\AppData\\Local\\Programs\\Python\\Python313\\Lib\\site-packages\\tqdm\\auto.py:21: TqdmWarning: IProgress not found. Please update jupyter and ipywidgets. See https://ipywidgets.readthedocs.io/en/stable/user_install.html\n",
      "  from .autonotebook import tqdm as notebook_tqdm\n",
      "Device set to use cpu\n"
     ]
    }
   ],
   "source": [
    "%run utils.py"
   ]
  },
  {
   "cell_type": "code",
   "execution_count": 4,
   "id": "253e9e48",
   "metadata": {},
   "outputs": [],
   "source": [
    "file_ext = file_path.split('.')[-1].lower()\n",
    "\n",
    "with open(file_path, 'rb') as f:\n",
    "    metadata = extract_metadata(f, file_ext)"
   ]
  },
  {
   "cell_type": "code",
   "execution_count": 5,
   "id": "91ab3309",
   "metadata": {},
   "outputs": [
    {
     "name": "stdout",
     "output_type": "stream",
     "text": [
      "Extracted Metadata\n",
      "------------------------------\n",
      "\n",
      "🔹 Title:\n",
      "The Journey Of Indian Finance\n",
      "\n",
      "🔹 Author:\n",
      "Ajay Shah\n",
      "\n",
      "🔹 Date:\n",
      "Not found\n",
      "\n",
      "🔹 Keywords:\n",
      "['finance', 'financial', 'equity', 'bankruptcy', 'management']\n",
      "\n",
      "🔹 Topics:\n",
      "['Finance']\n",
      "\n",
      "🔹 Summary:\n",
      "Indian finance went through a first phase of central planning (1947- 1992) and a second phase (1992-2016) with conflicting themes of liber- alisation and enhanced state control. In the first phase, the financial system was a handmaiden for state control of the economy. In many areas, private financial firms are now important.\n",
      "\n",
      "🔹 Preview:\n",
      "The journey of Indian finance Ajay Shah* XKDR Forum May 2024 Abstract Indian finance went through a first phase of central planning (1947- 1992) and a second phase (1992-2016) with conflicting themes of liber- alisation and enhanced state control. In the first phase, the financial system was a handmaiden for state control of the economy, directing resources in harmony with the wishes of the government. State control was achieved through government ownership. In many areas, private financial firms are now important. The full ecosystem of modern finance, with information processing and risk- taking by private persons, blossomed in the equity market. For two decades there was a remarkable policy process that yielded gains in fields such as the equity market, pension reforms, bankruptcy code, etc. But alongside this there was the expansion of ‘the administrative state’ in the form of financial regulators. Regulators engage in micro- management of products and processes. While there is isomorphic mimicry with many things that look like a financial system, officials retain substantial control over how finance works. In a functional perspective, Indian finance today resembles the environment of the 1980s more than meets the eye. *This paper is a chapter in Cambridge Economic History of Modern South Asia, edited by Latika Chaudhary, Tirthankar Roy, and Anand V. Swamy, forthcoming, Cambridge University Press. I acknowledge the role of conversations with Surendra Dave and Harsh Vardhan that helped in shaping this paper. 1 Contents 1 Banking 3 2 The equity market 6 3 Other financial firms 8 4 Capital controls 9 5 Bankruptcy 11 6 Monetary policy 12 7 Household finance 14 8 Systemic risk 15 9 The working of financial agencies 16 10 The policy process 17 11 Evaluation 19 2 Indian finance was built out after independence with bans on private produc- tion, public sector firms which were often monopolies, and central planning of products and processes. These levers were used by the state to finance itself and to reshape the allocation of capital in ways that were desirable to the state. From the 1980s onwards, in some respects, economic freedom improved. The emergence of private financial firms created the need for reg- ulatory capacity. Some kinds of state capacity in financial regulation have emerged. The improvements in finance, which came about from the 1980s onwards, were an important ingredient of the growth acceleration. At the same time, in many respects, the central planning is intact or has worsened. The capabilities of the financial sector have consistently lagged the requirements of the real sector. State interventions in finance have prohibited rational activities, and policy risk has hindered the commitment of private persons in building organisational capacity in private financial firms. State intervention in finance has had deficiencies on objectives and implementation. The intellectual and policy community has been weakened in recent years. This \n"
     ]
    }
   ],
   "source": [
    "print(\"Extracted Metadata\\n\" + \"-\"*30)\n",
    "\n",
    "for key, value in metadata.items():\n",
    "    print(f\"\\n🔹 {key.title()}:\\n{value}\")\n"
   ]
  }
 ],
 "metadata": {
  "kernelspec": {
   "display_name": "Python 3",
   "language": "python",
   "name": "python3"
  },
  "language_info": {
   "codemirror_mode": {
    "name": "ipython",
    "version": 3
   },
   "file_extension": ".py",
   "mimetype": "text/x-python",
   "name": "python",
   "nbconvert_exporter": "python",
   "pygments_lexer": "ipython3",
   "version": "3.13.2"
  }
 },
 "nbformat": 4,
 "nbformat_minor": 5
}
